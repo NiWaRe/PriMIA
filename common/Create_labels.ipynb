{
 "cells": [
  {
   "cell_type": "code",
   "execution_count": 1,
   "metadata": {},
   "outputs": [],
   "source": [
    "import pandas as pd\n",
    "from pathlib import Path"
   ]
  },
  {
   "cell_type": "code",
   "execution_count": 43,
   "metadata": {},
   "outputs": [],
   "source": [
    "meta = pd.read_csv(\"Chest_xray_Corona_Metadata.csv\", index_col=1).drop(\"Unnamed: 0\", 1)"
   ]
  },
  {
   "cell_type": "code",
   "execution_count": 44,
   "metadata": {},
   "outputs": [
    {
     "data": {
      "text/html": [
       "<div>\n",
       "<style scoped>\n",
       "    .dataframe tbody tr th:only-of-type {\n",
       "        vertical-align: middle;\n",
       "    }\n",
       "\n",
       "    .dataframe tbody tr th {\n",
       "        vertical-align: top;\n",
       "    }\n",
       "\n",
       "    .dataframe thead th {\n",
       "        text-align: right;\n",
       "    }\n",
       "</style>\n",
       "<table border=\"1\" class=\"dataframe\">\n",
       "  <thead>\n",
       "    <tr style=\"text-align: right;\">\n",
       "      <th></th>\n",
       "      <th>Label</th>\n",
       "      <th>Dataset_type</th>\n",
       "      <th>Label_2_Virus_category</th>\n",
       "      <th>Label_1_Virus_category</th>\n",
       "    </tr>\n",
       "    <tr>\n",
       "      <th>X_ray_image_name</th>\n",
       "      <th></th>\n",
       "      <th></th>\n",
       "      <th></th>\n",
       "      <th></th>\n",
       "    </tr>\n",
       "  </thead>\n",
       "  <tbody>\n",
       "    <tr>\n",
       "      <th>person368_bacteria_1678.jpeg</th>\n",
       "      <td>Pnemonia</td>\n",
       "      <td>TRAIN</td>\n",
       "      <td>NaN</td>\n",
       "      <td>bacteria</td>\n",
       "    </tr>\n",
       "    <tr>\n",
       "      <th>person1183_bacteria_3131.jpeg</th>\n",
       "      <td>Pnemonia</td>\n",
       "      <td>TRAIN</td>\n",
       "      <td>NaN</td>\n",
       "      <td>bacteria</td>\n",
       "    </tr>\n",
       "    <tr>\n",
       "      <th>person573_virus_1116.jpeg</th>\n",
       "      <td>Pnemonia</td>\n",
       "      <td>TRAIN</td>\n",
       "      <td>NaN</td>\n",
       "      <td>Virus</td>\n",
       "    </tr>\n",
       "    <tr>\n",
       "      <th>NORMAL2-IM-1271-0001.jpeg</th>\n",
       "      <td>Normal</td>\n",
       "      <td>TRAIN</td>\n",
       "      <td>NaN</td>\n",
       "      <td>NaN</td>\n",
       "    </tr>\n",
       "    <tr>\n",
       "      <th>NORMAL2-IM-1187-0001.jpeg</th>\n",
       "      <td>Normal</td>\n",
       "      <td>TRAIN</td>\n",
       "      <td>NaN</td>\n",
       "      <td>NaN</td>\n",
       "    </tr>\n",
       "    <tr>\n",
       "      <th>person1323_bacteria_3363.jpeg</th>\n",
       "      <td>Pnemonia</td>\n",
       "      <td>TRAIN</td>\n",
       "      <td>NaN</td>\n",
       "      <td>bacteria</td>\n",
       "    </tr>\n",
       "    <tr>\n",
       "      <th>person1402_virus_2405.jpeg</th>\n",
       "      <td>Pnemonia</td>\n",
       "      <td>TRAIN</td>\n",
       "      <td>NaN</td>\n",
       "      <td>Virus</td>\n",
       "    </tr>\n",
       "    <tr>\n",
       "      <th>person83_bacteria_410.jpeg</th>\n",
       "      <td>Pnemonia</td>\n",
       "      <td>TEST</td>\n",
       "      <td>NaN</td>\n",
       "      <td>bacteria</td>\n",
       "    </tr>\n",
       "    <tr>\n",
       "      <th>NORMAL2-IM-1286-0001.jpeg</th>\n",
       "      <td>Normal</td>\n",
       "      <td>TRAIN</td>\n",
       "      <td>NaN</td>\n",
       "      <td>NaN</td>\n",
       "    </tr>\n",
       "    <tr>\n",
       "      <th>IM-0598-0001.jpeg</th>\n",
       "      <td>Normal</td>\n",
       "      <td>TRAIN</td>\n",
       "      <td>NaN</td>\n",
       "      <td>NaN</td>\n",
       "    </tr>\n",
       "  </tbody>\n",
       "</table>\n",
       "</div>"
      ],
      "text/plain": [
       "                                  Label Dataset_type Label_2_Virus_category  \\\n",
       "X_ray_image_name                                                              \n",
       "person368_bacteria_1678.jpeg   Pnemonia        TRAIN                    NaN   \n",
       "person1183_bacteria_3131.jpeg  Pnemonia        TRAIN                    NaN   \n",
       "person573_virus_1116.jpeg      Pnemonia        TRAIN                    NaN   \n",
       "NORMAL2-IM-1271-0001.jpeg        Normal        TRAIN                    NaN   \n",
       "NORMAL2-IM-1187-0001.jpeg        Normal        TRAIN                    NaN   \n",
       "person1323_bacteria_3363.jpeg  Pnemonia        TRAIN                    NaN   \n",
       "person1402_virus_2405.jpeg     Pnemonia        TRAIN                    NaN   \n",
       "person83_bacteria_410.jpeg     Pnemonia         TEST                    NaN   \n",
       "NORMAL2-IM-1286-0001.jpeg        Normal        TRAIN                    NaN   \n",
       "IM-0598-0001.jpeg                Normal        TRAIN                    NaN   \n",
       "\n",
       "                              Label_1_Virus_category  \n",
       "X_ray_image_name                                      \n",
       "person368_bacteria_1678.jpeg                bacteria  \n",
       "person1183_bacteria_3131.jpeg               bacteria  \n",
       "person573_virus_1116.jpeg                      Virus  \n",
       "NORMAL2-IM-1271-0001.jpeg                        NaN  \n",
       "NORMAL2-IM-1187-0001.jpeg                        NaN  \n",
       "person1323_bacteria_3363.jpeg               bacteria  \n",
       "person1402_virus_2405.jpeg                     Virus  \n",
       "person83_bacteria_410.jpeg                  bacteria  \n",
       "NORMAL2-IM-1286-0001.jpeg                        NaN  \n",
       "IM-0598-0001.jpeg                                NaN  "
      ]
     },
     "execution_count": 44,
     "metadata": {},
     "output_type": "execute_result"
    }
   ],
   "source": [
    "meta.sample(10)"
   ]
  },
  {
   "cell_type": "code",
   "execution_count": 54,
   "metadata": {},
   "outputs": [],
   "source": [
    "train = [str(im.stem)+\".jpeg\" for im in Path(\"train\").rglob(\"*.jpeg\")]"
   ]
  },
  {
   "cell_type": "code",
   "execution_count": 55,
   "metadata": {},
   "outputs": [],
   "source": [
    "test = [str(im.stem)+\".jpeg\" for im in Path(\"test\").rglob(\"*.jpeg\")]"
   ]
  },
  {
   "cell_type": "code",
   "execution_count": 56,
   "metadata": {},
   "outputs": [
    {
     "data": {
      "text/plain": [
       "True"
      ]
     },
     "execution_count": 56,
     "metadata": {},
     "output_type": "execute_result"
    }
   ],
   "source": [
    "#test\n",
    "len(train + test) == 5163 + 624"
   ]
  },
  {
   "cell_type": "code",
   "execution_count": 77,
   "metadata": {},
   "outputs": [],
   "source": [
    "new_meta = meta.loc[train+test].drop(\"Label_2_Virus_category\", 1)"
   ]
  },
  {
   "cell_type": "code",
   "execution_count": 84,
   "metadata": {},
   "outputs": [],
   "source": [
    "new_meta[\"Numeric_Label\"] = new_meta[\"Label_1_Virus_category\"].apply(lambda x: 1 if x==\"bacteria\" else 2 if x==\"Virus\" else 0)\n",
    "new_meta = new_meta.drop([\"Label\", \"Label_1_Virus_category\"], 1).fillna(\"Normal\")"
   ]
  },
  {
   "cell_type": "code",
   "execution_count": 89,
   "metadata": {},
   "outputs": [
    {
     "data": {
      "text/html": [
       "<div>\n",
       "<style scoped>\n",
       "    .dataframe tbody tr th:only-of-type {\n",
       "        vertical-align: middle;\n",
       "    }\n",
       "\n",
       "    .dataframe tbody tr th {\n",
       "        vertical-align: top;\n",
       "    }\n",
       "\n",
       "    .dataframe thead th {\n",
       "        text-align: right;\n",
       "    }\n",
       "</style>\n",
       "<table border=\"1\" class=\"dataframe\">\n",
       "  <thead>\n",
       "    <tr style=\"text-align: right;\">\n",
       "      <th></th>\n",
       "      <th>Dataset_type</th>\n",
       "      <th>Numeric_Label</th>\n",
       "    </tr>\n",
       "    <tr>\n",
       "      <th>X_ray_image_name</th>\n",
       "      <th></th>\n",
       "      <th></th>\n",
       "    </tr>\n",
       "  </thead>\n",
       "  <tbody>\n",
       "    <tr>\n",
       "      <th>person605_virus_1169.jpeg</th>\n",
       "      <td>TRAIN</td>\n",
       "      <td>2</td>\n",
       "    </tr>\n",
       "    <tr>\n",
       "      <th>IM-0519-0001-0001.jpeg</th>\n",
       "      <td>TRAIN</td>\n",
       "      <td>0</td>\n",
       "    </tr>\n",
       "    <tr>\n",
       "      <th>person1266_virus_2158.jpeg</th>\n",
       "      <td>TRAIN</td>\n",
       "      <td>2</td>\n",
       "    </tr>\n",
       "    <tr>\n",
       "      <th>person1374_virus_2365.jpeg</th>\n",
       "      <td>TRAIN</td>\n",
       "      <td>2</td>\n",
       "    </tr>\n",
       "    <tr>\n",
       "      <th>person574_bacteria_2370.jpeg</th>\n",
       "      <td>TRAIN</td>\n",
       "      <td>1</td>\n",
       "    </tr>\n",
       "    <tr>\n",
       "      <th>NORMAL2-IM-0373-0001.jpeg</th>\n",
       "      <td>TEST</td>\n",
       "      <td>0</td>\n",
       "    </tr>\n",
       "    <tr>\n",
       "      <th>person433_virus_882.jpeg</th>\n",
       "      <td>TRAIN</td>\n",
       "      <td>2</td>\n",
       "    </tr>\n",
       "    <tr>\n",
       "      <th>person1305_bacteria_3271.jpeg</th>\n",
       "      <td>TRAIN</td>\n",
       "      <td>1</td>\n",
       "    </tr>\n",
       "    <tr>\n",
       "      <th>person1756_bacteria_4598.jpeg</th>\n",
       "      <td>TRAIN</td>\n",
       "      <td>1</td>\n",
       "    </tr>\n",
       "    <tr>\n",
       "      <th>person100_bacteria_475.jpeg</th>\n",
       "      <td>TEST</td>\n",
       "      <td>1</td>\n",
       "    </tr>\n",
       "  </tbody>\n",
       "</table>\n",
       "</div>"
      ],
      "text/plain": [
       "                              Dataset_type  Numeric_Label\n",
       "X_ray_image_name                                         \n",
       "person605_virus_1169.jpeg            TRAIN              2\n",
       "IM-0519-0001-0001.jpeg               TRAIN              0\n",
       "person1266_virus_2158.jpeg           TRAIN              2\n",
       "person1374_virus_2365.jpeg           TRAIN              2\n",
       "person574_bacteria_2370.jpeg         TRAIN              1\n",
       "NORMAL2-IM-0373-0001.jpeg             TEST              0\n",
       "person433_virus_882.jpeg             TRAIN              2\n",
       "person1305_bacteria_3271.jpeg        TRAIN              1\n",
       "person1756_bacteria_4598.jpeg        TRAIN              1\n",
       "person100_bacteria_475.jpeg           TEST              1"
      ]
     },
     "execution_count": 89,
     "metadata": {},
     "output_type": "execute_result"
    }
   ],
   "source": [
    "new_meta.sample(10)"
   ]
  },
  {
   "cell_type": "code",
   "execution_count": 92,
   "metadata": {},
   "outputs": [
    {
     "data": {
      "text/plain": [
       "Dataset_type     5163\n",
       "Numeric_Label    5163\n",
       "dtype: int64"
      ]
     },
     "execution_count": 92,
     "metadata": {},
     "output_type": "execute_result"
    }
   ],
   "source": [
    "new_meta[new_meta[\"Dataset_type\"]==\"TRAIN\"].count()"
   ]
  },
  {
   "cell_type": "code",
   "execution_count": 93,
   "metadata": {},
   "outputs": [
    {
     "data": {
      "text/plain": [
       "Dataset_type     624\n",
       "Numeric_Label    624\n",
       "dtype: int64"
      ]
     },
     "execution_count": 93,
     "metadata": {},
     "output_type": "execute_result"
    }
   ],
   "source": [
    "new_meta[new_meta[\"Dataset_type\"]==\"TEST\"].count()"
   ]
  },
  {
   "cell_type": "code",
   "execution_count": 94,
   "metadata": {},
   "outputs": [],
   "source": [
    "new_meta.to_csv(\"Labels.csv\")"
   ]
  },
  {
   "cell_type": "code",
   "execution_count": 99,
   "metadata": {},
   "outputs": [
    {
     "data": {
      "text/plain": [
       "1    2724\n",
       "0    1573\n",
       "2    1490\n",
       "Name: Numeric_Label, dtype: int64"
      ]
     },
     "execution_count": 99,
     "metadata": {},
     "output_type": "execute_result"
    }
   ],
   "source": [
    "new_meta[\"Numeric_Label\"].value_counts()"
   ]
  }
 ],
 "metadata": {
  "kernelspec": {
   "display_name": "Python 3",
   "language": "python",
   "name": "python3"
  },
  "language_info": {
   "codemirror_mode": {
    "name": "ipython",
    "version": 3
   },
   "file_extension": ".py",
   "mimetype": "text/x-python",
   "name": "python",
   "nbconvert_exporter": "python",
   "pygments_lexer": "ipython3",
   "version": "3.7.6"
  }
 },
 "nbformat": 4,
 "nbformat_minor": 4
}
